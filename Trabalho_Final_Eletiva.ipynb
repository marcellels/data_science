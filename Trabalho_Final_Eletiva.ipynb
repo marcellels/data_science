{
  "nbformat": 4,
  "nbformat_minor": 0,
  "metadata": {
    "colab": {
      "name": "Trabalho Final Eletiva.ipynb",
      "provenance": [],
      "toc_visible": true,
      "authorship_tag": "ABX9TyNWfWlXtJm3W23vGhZnVOrf",
      "include_colab_link": true
    },
    "kernelspec": {
      "name": "python3",
      "display_name": "Python 3"
    }
  },
  "cells": [
    {
      "cell_type": "markdown",
      "metadata": {
        "id": "view-in-github",
        "colab_type": "text"
      },
      "source": [
        "<a href=\"https://colab.research.google.com/github/marcellels/data_science/blob/master/Trabalho_Final_Eletiva.ipynb\" target=\"_parent\"><img src=\"https://colab.research.google.com/assets/colab-badge.svg\" alt=\"Open In Colab\"/></a>"
      ]
    },
    {
      "cell_type": "markdown",
      "metadata": {
        "id": "QnXSvp5xXkDb"
      },
      "source": [
        "#**Componentes:**\n",
        "\n",
        "Marcelle Luiza da Silva - 15200811-6\n",
        "\n",
        "Rafaela Ribeiro Petró - "
      ]
    },
    {
      "cell_type": "markdown",
      "metadata": {
        "id": "u_vU_98BYHAo"
      },
      "source": [
        "# **h) Obtenção dos Dados e Objetivo do Estudo**\n",
        "\n",
        "Os dados utilizados nesta análise foram obtidos através do site da [Secretaria da Segurança Pública](https://ssp.rs.gov.br/indicadores-da-violencia-contra-a-mulher) do Rio Grande do Sul.\n",
        "\n",
        "Sobre os indicadores monitorados e reportados nestes dados, o [Observatório da Violência Contra a Mulher](https://ssp.rs.gov.br/observatorio-da-violencia-contra-a-mulher) pontua:\n",
        "\n",
        "\n",
        "> Os principais indicadores de âmbito estadual monitorados e divulgados mensalmente dizem respeito ao fenômeno da violência contra as mulheres, tal como definido pela Lei 11.340/06 (Lei Maria da Penha), exercida no âmbito familiar ou de relações íntimas.\n",
        "São eles: lesão corporal, ameaça e estupro em situação familiar ou íntima. \n",
        "Também são monitorados os casos de feminicídio tentados e consumados, definidos a partir da Lei 13.104/15 (Lei do Feminicídio).\n",
        "\n",
        "Ao longo do estudo, foram utilizados um compilado de informações de ocorrências de violência contra a mulher que aconteceram entre os anos de 2012 a 2019, mês a mês, com o oobjetivo de realizadar uma avaliação do **cenário da violência contra a mulher no estado do Rio Grande do Sul**."
      ]
    },
    {
      "cell_type": "markdown",
      "metadata": {
        "id": "ryhSnSUbYDAj"
      },
      "source": [
        "#**a) Ler arquivo de dados**"
      ]
    },
    {
      "cell_type": "code",
      "metadata": {
        "id": "6PppEzsIXNRd"
      },
      "source": [
        "# importar os pacotes necessários\n",
        "import pandas as pd\n",
        "import numpy as np\n",
        "import matplotlib.pyplot as plt"
      ],
      "execution_count": 2,
      "outputs": []
    },
    {
      "cell_type": "code",
      "metadata": {
        "id": "97JmycamXSKP"
      },
      "source": [
        "# importar arquivos\n",
        "\n",
        "# violência contra a mulher no RS entre 2012 e 2019\n",
        "df0 = pd.read_csv(\"https://raw.githubusercontent.com/marcellels/dsrepo/master/Database/Viol%C3%AAncia%20Contra%20a%20Mulher%20(RS)/Dados_Violencia_Contra_Mulher_RS_2012_2019.csv\", delimiter=\";\")\n",
        "df0.data = pd.to_datetime(df0.data, format=\"%m-%Y\")\n"
      ],
      "execution_count": 3,
      "outputs": []
    },
    {
      "cell_type": "markdown",
      "metadata": {
        "id": "zJwpuBwtYVMD"
      },
      "source": [
        "#**b) Apresentar dados da estrutura**"
      ]
    },
    {
      "cell_type": "code",
      "metadata": {
        "colab": {
          "base_uri": "https://localhost:8080/"
        },
        "id": "njqwiD1eXUjF",
        "outputId": "22cb4207-b81f-46aa-ea22-122e524e1327"
      },
      "source": [
        "# identificar número de variáveis e entradas\n",
        "print(\"Variáveis:\\t\", df0.shape[1])\n",
        "print(\"Entradas:\\t\", df0.shape[0])"
      ],
      "execution_count": 4,
      "outputs": [
        {
          "output_type": "stream",
          "text": [
            "Variáveis:\t 6\n",
            "Entradas:\t 96\n"
          ],
          "name": "stdout"
        }
      ]
    },
    {
      "cell_type": "code",
      "metadata": {
        "colab": {
          "base_uri": "https://localhost:8080/"
        },
        "id": "zFVo4YhkY0JZ",
        "outputId": "7d065e8f-c8eb-43c0-8574-83c0c098574a"
      },
      "source": [
        "# verificar os tipos de variáveis\n",
        "df0.dtypes"
      ],
      "execution_count": 5,
      "outputs": [
        {
          "output_type": "execute_result",
          "data": {
            "text/plain": [
              "data                   datetime64[ns]\n",
              "ameaca                          int64\n",
              "lesao                           int64\n",
              "estupro                         int64\n",
              "feminicidio                     int64\n",
              "feminicidio_tentado           float64\n",
              "dtype: object"
            ]
          },
          "metadata": {
            "tags": []
          },
          "execution_count": 5
        }
      ]
    },
    {
      "cell_type": "code",
      "metadata": {
        "id": "D9qaS9c0aM3x"
      },
      "source": [
        "# passar a data para o index\n",
        "df = df0.copy()\n",
        "df.index = df['data']\n",
        "del df['data']"
      ],
      "execution_count": 6,
      "outputs": []
    },
    {
      "cell_type": "markdown",
      "metadata": {
        "id": "CGu4IrrhahMH"
      },
      "source": [
        "Agora temos apenas 5 variáveis."
      ]
    },
    {
      "cell_type": "code",
      "metadata": {
        "colab": {
          "base_uri": "https://localhost:8080/"
        },
        "id": "mjy-vEgLY3ns",
        "outputId": "09f24055-85f5-4572-feec-776a96ccfef4"
      },
      "source": [
        "# determinar % de valores ausentes por coluna\n",
        "(df.isnull().sum() / df.shape[0])*100"
      ],
      "execution_count": 7,
      "outputs": [
        {
          "output_type": "execute_result",
          "data": {
            "text/plain": [
              "ameaca                  0.0\n",
              "lesao                   0.0\n",
              "estupro                 0.0\n",
              "feminicidio             0.0\n",
              "feminicidio_tentado    12.5\n",
              "dtype: float64"
            ]
          },
          "metadata": {
            "tags": []
          },
          "execution_count": 7
        }
      ]
    },
    {
      "cell_type": "code",
      "metadata": {
        "colab": {
          "base_uri": "https://localhost:8080/"
        },
        "id": "BiNqfza_Zpvd",
        "outputId": "20547d91-6612-441c-9dee-9582b2dd3328"
      },
      "source": [
        "# descartar dados ausentes\n",
        "df.dropna(inplace=True)\n",
        "df.shape\n"
      ],
      "execution_count": 10,
      "outputs": [
        {
          "output_type": "execute_result",
          "data": {
            "text/plain": [
              "(84, 5)"
            ]
          },
          "metadata": {
            "tags": []
          },
          "execution_count": 10
        }
      ]
    },
    {
      "cell_type": "code",
      "metadata": {
        "colab": {
          "base_uri": "https://localhost:8080/",
          "height": 227
        },
        "id": "0pqt-QiSYZvT",
        "outputId": "7f65c5cb-ae3e-4396-a132-bf3133dff1e1"
      },
      "source": [
        "# mostrar as 5 primeiras entradas do dataset\n",
        "df.head()"
      ],
      "execution_count": 11,
      "outputs": [
        {
          "output_type": "execute_result",
          "data": {
            "text/html": [
              "<div>\n",
              "<style scoped>\n",
              "    .dataframe tbody tr th:only-of-type {\n",
              "        vertical-align: middle;\n",
              "    }\n",
              "\n",
              "    .dataframe tbody tr th {\n",
              "        vertical-align: top;\n",
              "    }\n",
              "\n",
              "    .dataframe thead th {\n",
              "        text-align: right;\n",
              "    }\n",
              "</style>\n",
              "<table border=\"1\" class=\"dataframe\">\n",
              "  <thead>\n",
              "    <tr style=\"text-align: right;\">\n",
              "      <th></th>\n",
              "      <th>ameaca</th>\n",
              "      <th>lesao</th>\n",
              "      <th>estupro</th>\n",
              "      <th>feminicidio</th>\n",
              "      <th>feminicidio_tentado</th>\n",
              "    </tr>\n",
              "    <tr>\n",
              "      <th>data</th>\n",
              "      <th></th>\n",
              "      <th></th>\n",
              "      <th></th>\n",
              "      <th></th>\n",
              "      <th></th>\n",
              "    </tr>\n",
              "  </thead>\n",
              "  <tbody>\n",
              "    <tr>\n",
              "      <th>2013-01-01</th>\n",
              "      <td>4537</td>\n",
              "      <td>2674</td>\n",
              "      <td>153</td>\n",
              "      <td>7</td>\n",
              "      <td>26.0</td>\n",
              "    </tr>\n",
              "    <tr>\n",
              "      <th>2013-02-01</th>\n",
              "      <td>3853</td>\n",
              "      <td>2425</td>\n",
              "      <td>129</td>\n",
              "      <td>12</td>\n",
              "      <td>21.0</td>\n",
              "    </tr>\n",
              "    <tr>\n",
              "      <th>2013-03-01</th>\n",
              "      <td>3845</td>\n",
              "      <td>2298</td>\n",
              "      <td>104</td>\n",
              "      <td>8</td>\n",
              "      <td>19.0</td>\n",
              "    </tr>\n",
              "    <tr>\n",
              "      <th>2013-04-01</th>\n",
              "      <td>3683</td>\n",
              "      <td>2071</td>\n",
              "      <td>105</td>\n",
              "      <td>9</td>\n",
              "      <td>19.0</td>\n",
              "    </tr>\n",
              "    <tr>\n",
              "      <th>2013-05-01</th>\n",
              "      <td>3237</td>\n",
              "      <td>1970</td>\n",
              "      <td>116</td>\n",
              "      <td>10</td>\n",
              "      <td>13.0</td>\n",
              "    </tr>\n",
              "  </tbody>\n",
              "</table>\n",
              "</div>"
            ],
            "text/plain": [
              "            ameaca  lesao  estupro  feminicidio  feminicidio_tentado\n",
              "data                                                                \n",
              "2013-01-01    4537   2674      153            7                 26.0\n",
              "2013-02-01    3853   2425      129           12                 21.0\n",
              "2013-03-01    3845   2298      104            8                 19.0\n",
              "2013-04-01    3683   2071      105            9                 19.0\n",
              "2013-05-01    3237   1970      116           10                 13.0"
            ]
          },
          "metadata": {
            "tags": []
          },
          "execution_count": 11
        }
      ]
    },
    {
      "cell_type": "markdown",
      "metadata": {
        "id": "d40YqAVGL8Kr"
      },
      "source": [
        "# **c) Totalizar dados**"
      ]
    },
    {
      "cell_type": "code",
      "metadata": {
        "id": "keOJKzomMu2C"
      },
      "source": [
        "# incluir coluna total com o somatório das ocorrências\n",
        "df['total_ocorrencias'] = (df['ameaca'] + df['lesao'] + df['estupro'] + df['feminicidio'] + df['feminicidio_tentado'])"
      ],
      "execution_count": 16,
      "outputs": []
    },
    {
      "cell_type": "code",
      "metadata": {
        "id": "PUw7OCRSZmQK"
      },
      "source": [
        "# agrupar dados por ano somando as ocorrencias por tipo\n",
        "df_agrupar = df.groupby(df.index.year).sum()"
      ],
      "execution_count": 17,
      "outputs": []
    },
    {
      "cell_type": "code",
      "metadata": {
        "colab": {
          "base_uri": "https://localhost:8080/"
        },
        "id": "xytF_3lGN_zX",
        "outputId": "fdd78cc8-f2cc-4973-9e8e-48de75027f66"
      },
      "source": [
        "# verificar o número de entradas\n",
        "df_agrupar.shape[0]"
      ],
      "execution_count": 20,
      "outputs": [
        {
          "output_type": "execute_result",
          "data": {
            "text/plain": [
              "7"
            ]
          },
          "metadata": {
            "tags": []
          },
          "execution_count": 20
        }
      ]
    },
    {
      "cell_type": "markdown",
      "metadata": {
        "id": "HR5QsI6cOJPq"
      },
      "source": [
        "Temos 7 anos relacionados no dataset"
      ]
    },
    {
      "cell_type": "code",
      "metadata": {
        "colab": {
          "base_uri": "https://localhost:8080/",
          "height": 287
        },
        "id": "2IUEv-wwMH3E",
        "outputId": "ecf540f2-f185-4f86-ba8c-414a71abf439"
      },
      "source": [
        "# mostrar todas as entradas\n",
        "df_agrupar.head(7)"
      ],
      "execution_count": 21,
      "outputs": [
        {
          "output_type": "execute_result",
          "data": {
            "text/html": [
              "<div>\n",
              "<style scoped>\n",
              "    .dataframe tbody tr th:only-of-type {\n",
              "        vertical-align: middle;\n",
              "    }\n",
              "\n",
              "    .dataframe tbody tr th {\n",
              "        vertical-align: top;\n",
              "    }\n",
              "\n",
              "    .dataframe thead th {\n",
              "        text-align: right;\n",
              "    }\n",
              "</style>\n",
              "<table border=\"1\" class=\"dataframe\">\n",
              "  <thead>\n",
              "    <tr style=\"text-align: right;\">\n",
              "      <th></th>\n",
              "      <th>ameaca</th>\n",
              "      <th>lesao</th>\n",
              "      <th>estupro</th>\n",
              "      <th>feminicidio</th>\n",
              "      <th>feminicidio_tentado</th>\n",
              "      <th>total_ocorrencias</th>\n",
              "    </tr>\n",
              "    <tr>\n",
              "      <th>data</th>\n",
              "      <th></th>\n",
              "      <th></th>\n",
              "      <th></th>\n",
              "      <th></th>\n",
              "      <th></th>\n",
              "      <th></th>\n",
              "    </tr>\n",
              "  </thead>\n",
              "  <tbody>\n",
              "    <tr>\n",
              "      <th>2013</th>\n",
              "      <td>43879</td>\n",
              "      <td>26137</td>\n",
              "      <td>1448</td>\n",
              "      <td>92</td>\n",
              "      <td>229.0</td>\n",
              "      <td>71785.0</td>\n",
              "    </tr>\n",
              "    <tr>\n",
              "      <th>2014</th>\n",
              "      <td>44771</td>\n",
              "      <td>25542</td>\n",
              "      <td>1407</td>\n",
              "      <td>75</td>\n",
              "      <td>286.0</td>\n",
              "      <td>72081.0</td>\n",
              "    </tr>\n",
              "    <tr>\n",
              "      <th>2015</th>\n",
              "      <td>42841</td>\n",
              "      <td>24533</td>\n",
              "      <td>1472</td>\n",
              "      <td>99</td>\n",
              "      <td>311.0</td>\n",
              "      <td>69256.0</td>\n",
              "    </tr>\n",
              "    <tr>\n",
              "      <th>2016</th>\n",
              "      <td>39606</td>\n",
              "      <td>22667</td>\n",
              "      <td>1574</td>\n",
              "      <td>96</td>\n",
              "      <td>263.0</td>\n",
              "      <td>64206.0</td>\n",
              "    </tr>\n",
              "    <tr>\n",
              "      <th>2017</th>\n",
              "      <td>37946</td>\n",
              "      <td>22960</td>\n",
              "      <td>1661</td>\n",
              "      <td>83</td>\n",
              "      <td>322.0</td>\n",
              "      <td>62972.0</td>\n",
              "    </tr>\n",
              "    <tr>\n",
              "      <th>2018</th>\n",
              "      <td>37623</td>\n",
              "      <td>21815</td>\n",
              "      <td>1712</td>\n",
              "      <td>116</td>\n",
              "      <td>355.0</td>\n",
              "      <td>61621.0</td>\n",
              "    </tr>\n",
              "    <tr>\n",
              "      <th>2019</th>\n",
              "      <td>37381</td>\n",
              "      <td>20989</td>\n",
              "      <td>1714</td>\n",
              "      <td>97</td>\n",
              "      <td>359.0</td>\n",
              "      <td>60540.0</td>\n",
              "    </tr>\n",
              "  </tbody>\n",
              "</table>\n",
              "</div>"
            ],
            "text/plain": [
              "      ameaca  lesao  ...  feminicidio_tentado  total_ocorrencias\n",
              "data                 ...                                        \n",
              "2013   43879  26137  ...                229.0            71785.0\n",
              "2014   44771  25542  ...                286.0            72081.0\n",
              "2015   42841  24533  ...                311.0            69256.0\n",
              "2016   39606  22667  ...                263.0            64206.0\n",
              "2017   37946  22960  ...                322.0            62972.0\n",
              "2018   37623  21815  ...                355.0            61621.0\n",
              "2019   37381  20989  ...                359.0            60540.0\n",
              "\n",
              "[7 rows x 6 columns]"
            ]
          },
          "metadata": {
            "tags": []
          },
          "execution_count": 21
        }
      ]
    },
    {
      "cell_type": "code",
      "metadata": {
        "colab": {
          "base_uri": "https://localhost:8080/"
        },
        "id": "xVyCZPvyOZEt",
        "outputId": "de84bcaa-1f77-4510-c877-67322875a4f9"
      },
      "source": [
        "# calcular o número total de ocorrências para os 7 anos e média\n",
        "total = df_agrupar.total_ocorrencias.sum()\n",
        "media = df_agrupar.total_ocorrencias.mean()\n",
        "\n",
        "print('Número total de ocorrências entre 2013 e 2014:', int(total))\n",
        "print('Número médio de ocorrências entre 2013 e 2014:', int(media))"
      ],
      "execution_count": 25,
      "outputs": [
        {
          "output_type": "stream",
          "text": [
            "Número total de ocorrências entre 2013 e 2014: 462461\n",
            "Número médio de ocorrências entre 2013 e 2014: 66065\n"
          ],
          "name": "stdout"
        }
      ]
    },
    {
      "cell_type": "code",
      "metadata": {
        "colab": {
          "base_uri": "https://localhost:8080/"
        },
        "id": "OFQKyfblPc4K",
        "outputId": "b5a6e52a-1e49-40f1-a6b2-012119c503e3"
      },
      "source": [
        "# mostrar o número máximo e médio de feminicídios diários\n",
        "print('Número máximo de feminicídios diários:', df.feminicidio.max())\n",
        "print('Número médio de feminicídios diários: {:.2f}'.format(df.feminicidio.mean()))"
      ],
      "execution_count": 31,
      "outputs": [
        {
          "output_type": "stream",
          "text": [
            "Número máximo de feminicídios diários: 16\n",
            "Número médio de feminicídios diários: 7.83\n"
          ],
          "name": "stdout"
        }
      ]
    },
    {
      "cell_type": "markdown",
      "metadata": {
        "id": "QidoXHv0PXjQ"
      },
      "source": [
        "#**d) Filtrar dados**"
      ]
    },
    {
      "cell_type": "code",
      "metadata": {
        "colab": {
          "base_uri": "https://localhost:8080/"
        },
        "id": "zUowN5YKP_Cb",
        "outputId": "3186a6e8-3303-40b7-c1a5-a8b7739b9261"
      },
      "source": [
        "# datas em que o número de feminicídio foi superior à média\n",
        "df_filtrar = df.loc[df['feminicidio'] >= df.feminicidio.mean()]\n",
        "print(df_filtrar.feminicidio)"
      ],
      "execution_count": 38,
      "outputs": [
        {
          "output_type": "stream",
          "text": [
            "data\n",
            "2013-02-01    12\n",
            "2013-03-01     8\n",
            "2013-04-01     9\n",
            "2013-05-01    10\n",
            "2013-06-01     9\n",
            "2013-09-01     8\n",
            "2013-12-01     9\n",
            "2014-02-01     9\n",
            "2014-03-01    11\n",
            "2014-04-01     8\n",
            "2014-11-01     9\n",
            "2014-12-01     8\n",
            "2015-02-01    13\n",
            "2015-04-01     9\n",
            "2015-05-01     8\n",
            "2015-08-01    12\n",
            "2015-09-01     9\n",
            "2015-10-01    11\n",
            "2015-12-01     8\n",
            "2016-01-01    10\n",
            "2016-02-01    13\n",
            "2016-03-01     8\n",
            "2016-04-01    11\n",
            "2016-08-01    10\n",
            "2016-09-01    10\n",
            "2016-12-01     9\n",
            "2017-01-01     9\n",
            "2017-02-01     8\n",
            "2017-06-01     9\n",
            "2017-08-01     8\n",
            "2017-09-01    14\n",
            "2018-03-01     8\n",
            "2018-04-01    11\n",
            "2018-05-01    10\n",
            "2018-06-01    16\n",
            "2018-07-01     8\n",
            "2018-08-01    10\n",
            "2018-09-01    12\n",
            "2018-11-01     8\n",
            "2018-12-01    16\n",
            "2019-03-01    11\n",
            "2019-05-01    11\n",
            "2019-06-01     9\n",
            "2019-07-01    14\n",
            "2019-08-01     8\n",
            "2019-10-01     9\n",
            "2019-11-01    11\n",
            "Name: feminicidio, dtype: int64\n"
          ],
          "name": "stdout"
        }
      ]
    },
    {
      "cell_type": "code",
      "metadata": {
        "colab": {
          "base_uri": "https://localhost:8080/"
        },
        "id": "YrtfKySkTdFo",
        "outputId": "cf50c37d-d791-4ebe-902e-a136f8ffaf1d"
      },
      "source": [
        "# número de feminicídios superior à média agrupado por ano\n",
        "df_filtrar.index.year.value_counts().sort_values()"
      ],
      "execution_count": 48,
      "outputs": [
        {
          "output_type": "execute_result",
          "data": {
            "text/plain": [
              "2017    5\n",
              "2014    5\n",
              "2019    7\n",
              "2016    7\n",
              "2015    7\n",
              "2013    7\n",
              "2018    9\n",
              "Name: data, dtype: int64"
            ]
          },
          "metadata": {
            "tags": []
          },
          "execution_count": 48
        }
      ]
    },
    {
      "cell_type": "markdown",
      "metadata": {
        "id": "XaJUZJ1DUQac"
      },
      "source": [
        "#**e) Representação visual**"
      ]
    },
    {
      "cell_type": "code",
      "metadata": {
        "colab": {
          "base_uri": "https://localhost:8080/",
          "height": 584
        },
        "id": "wRLSxZ7PUM37",
        "outputId": "28d10f02-fad4-4168-9e5a-75207628d265"
      },
      "source": [
        "# plotar o histograma das variáveis numéricas\n",
        "df.hist(bins=15, figsize=(10,8))\n",
        "plt.tight_layout();"
      ],
      "execution_count": 53,
      "outputs": [
        {
          "output_type": "display_data",
          "data": {
            "image/png": "[encoded data removed]",
            "text/plain": [
              "<Figure size 720x576 with 6 Axes>"
            ]
          },
          "metadata": {
            "tags": [],
            "needs_background": "light"
          }
        }
      ]
    },
    {
      "cell_type": "code",
      "metadata": {
        "colab": {
          "base_uri": "https://localhost:8080/",
          "height": 353
        },
        "id": "tw_Gns5hVuZ2",
        "outputId": "f985fc01-179b-4b3c-b56a-1b3d2150f453"
      },
      "source": [
        "# plotar o gráfico da variável feminicidio\n",
        "plt.figure(figsize=(8,5))\n",
        "\n",
        "ax = (df_agrupar.feminicidio.plot(kind='bar', rot=0, width=0.7))\n",
        "\n",
        "for p in ax.patches:\n",
        "    ax.annotate('{:.0f}'.format(p.get_height()), (p.get_x()+0.2, p.get_height()+2))\n",
        "\n",
        "ax.grid(False)\n",
        "ax.set_yticks([])\n",
        "ax.spines['top'].set_visible(False)\n",
        "ax.spines['right'].set_visible(False)\n",
        "ax.spines['left'].set_visible(False)\n",
        "\n",
        "plt.title('Total de Ocorrências de Feminicídio por Ano\\n')\n",
        "plt.xlabel('')\n",
        "\n",
        "plt.savefig('ocorrencias_ano_fem.png')\n",
        "plt.show()"
      ],
      "execution_count": 70,
      "outputs": [
        {
          "output_type": "display_data",
          "data": {
            "image/png": "[encoded data removed]",
            "text/plain": [
              "<Figure size 576x360 with 1 Axes>"
            ]
          },
          "metadata": {
            "tags": [],
            "needs_background": "light"
          }
        }
      ]
    }
  ]
}